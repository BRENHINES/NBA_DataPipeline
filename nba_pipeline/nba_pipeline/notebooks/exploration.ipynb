{
 "cells": [
  {
   "cell_type": "code",
   "id": "initial_id",
   "metadata": {
    "collapsed": true,
    "ExecuteTime": {
     "end_time": "2025-04-18T13:39:18.498736Z",
     "start_time": "2025-04-18T13:39:17.446285Z"
    }
   },
   "source": [
    "import polars as pl\n",
    "from pathlib import Path"
   ],
   "outputs": [
    {
     "name": "stdout",
     "output_type": "stream",
     "text": [
      "✅ Connexion réussie !\n",
      "Saisons disponibles : [2015, 2016, 2017, 2018, 2019, 2020, 2021, 2022, 2023, 2024]\n"
     ]
    }
   ],
   "execution_count": 3
  },
  {
   "metadata": {},
   "cell_type": "code",
   "outputs": [],
   "execution_count": null,
   "source": [
    "# Charger les fichiers depuis data/raw\n",
    "data_path = Path(\"../data/raw\")"
   ],
   "id": "350d73c0120f5989"
  },
  {
   "metadata": {},
   "cell_type": "code",
   "outputs": [],
   "execution_count": null,
   "source": [
    "# Chargement de toutes les tables\n",
    "seasons = pl.read_parquet(data_path / \"nba_seasons.parquet\")\n",
    "teams = pl.read_parquet(data_path / \"nba_teams.parquet\")\n",
    "players = pl.read_parquet(data_path / \"nba_players.parquet\")\n",
    "games = pl.read_parquet(data_path / \"nba_games.parquet\")\n",
    "player_stats = pl.read_parquet(data_path / \"nba_player_stats.parquet\")\n",
    "drafts = pl.read_parquet(data_path / \"nba_drafts.parquet\")"
   ],
   "id": "58c3443a0ae1ad3e"
  },
  {
   "metadata": {},
   "cell_type": "code",
   "outputs": [],
   "execution_count": null,
   "source": [
    "# Répartition des joueurs par poste\n",
    "players.select(\"pos\").value_counts().sort(\"count\", descending=True)"
   ],
   "id": "c206ef05d4345bcd"
  },
  {
   "metadata": {},
   "cell_type": "code",
   "outputs": [],
   "execution_count": null,
   "source": [
    "# Score moyen par poste\n",
    "player_stats.group_by(\"pos\").agg([\n",
    "    pl.col(\"points\").mean().alias(\"avg_points\"),\n",
    "    pl.col(\"fgp\").mean().alias(\"avg_fgp\")\n",
    "])"
   ],
   "id": "eff5fdd18862406a"
  },
  {
   "metadata": {},
   "cell_type": "code",
   "outputs": [],
   "execution_count": null,
   "source": [
    "# Moyenne des points par équipe\n",
    "games.group_by(\"home_team_name\").agg(pl.col(\"home_score\").mean().alias(\"avg_home_score\")).sort(\"avg_home_score\", descending=True)"
   ],
   "id": "ad570342dc19755f"
  },
  {
   "metadata": {},
   "cell_type": "code",
   "outputs": [],
   "execution_count": null,
   "source": [
    "# Corrélation entre les points et le plus/moins\n",
    "player_stats.select([\"points\", \"plusMinus\"]).drop_nulls().corr()"
   ],
   "id": "c8da35c305cad0f"
  }
 ],
 "metadata": {
  "kernelspec": {
   "display_name": "Python 3",
   "language": "python",
   "name": "python3"
  },
  "language_info": {
   "codemirror_mode": {
    "name": "ipython",
    "version": 2
   },
   "file_extension": ".py",
   "mimetype": "text/x-python",
   "name": "python",
   "nbconvert_exporter": "python",
   "pygments_lexer": "ipython2",
   "version": "2.7.6"
  }
 },
 "nbformat": 4,
 "nbformat_minor": 5
}
