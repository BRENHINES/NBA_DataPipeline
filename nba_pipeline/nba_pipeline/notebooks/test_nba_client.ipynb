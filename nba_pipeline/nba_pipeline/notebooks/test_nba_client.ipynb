{
 "cells": [
  {
   "cell_type": "code",
   "id": "initial_id",
   "metadata": {
    "collapsed": true,
    "ExecuteTime": {
     "end_time": "2025-04-21T18:54:55.538385Z",
     "start_time": "2025-04-21T18:54:54.586806Z"
    }
   },
   "source": [
    "from nba_pipeline.nba_pipeline.src.nba_client import NBAClient\n",
    "from dotenv import load_dotenv\n",
    "\n",
    "# Charger les variables d'environnement\n",
    "load_dotenv()\n",
    "\n",
    "# Initialisation du client\n",
    "client = NBAClient()\n",
    "\n",
    "# Test de la récupération des saisons\n",
    "try:\n",
    "    seasons = client.get_seasons()\n",
    "    print(\"Connexion réussie !\")\n",
    "    print(\"Saisons disponibles :\", seasons)\n",
    "except Exception as e:\n",
    "    print(\"Erreur - l'api n'est pas connecté : \", e)"
   ],
   "outputs": [
    {
     "name": "stdout",
     "output_type": "stream",
     "text": [
      "Connexion réussie !\n",
      "Saisons disponibles : [2015, 2016, 2017, 2018, 2019, 2020, 2021, 2022, 2023, 2024]\n"
     ]
    }
   ],
   "execution_count": 1
  }
 ],
 "metadata": {
  "kernelspec": {
   "display_name": "Python 3",
   "language": "python",
   "name": "python3"
  },
  "language_info": {
   "codemirror_mode": {
    "name": "ipython",
    "version": 2
   },
   "file_extension": ".py",
   "mimetype": "text/x-python",
   "name": "python",
   "nbconvert_exporter": "python",
   "pygments_lexer": "ipython2",
   "version": "2.7.6"
  }
 },
 "nbformat": 4,
 "nbformat_minor": 5
}
